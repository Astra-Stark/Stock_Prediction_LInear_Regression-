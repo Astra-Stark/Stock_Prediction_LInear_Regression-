{
  "nbformat": 4,
  "nbformat_minor": 0,
  "metadata": {
    "colab": {
      "provenance": [],
      "include_colab_link": true
    },
    "kernelspec": {
      "name": "python3",
      "display_name": "Python 3"
    },
    "language_info": {
      "name": "python"
    }
  },
  "cells": [
    {
      "cell_type": "markdown",
      "metadata": {
        "id": "view-in-github",
        "colab_type": "text"
      },
      "source": [
        "<a href=\"https://colab.research.google.com/github/Astra-Stark/Stock_Prediction_LInear_Regression-/blob/main/Stock_prediction_Linear_Regression_code_file.ipynb\" target=\"_parent\"><img src=\"https://colab.research.google.com/assets/colab-badge.svg\" alt=\"Open In Colab\"/></a>"
      ]
    },
    {
      "cell_type": "code",
      "execution_count": null,
      "metadata": {
        "id": "VAQ1MJzlB5hF",
        "outputId": "4e9a9f2b-cb48-4395-9a4e-893a9a2e9b5a",
        "colab": {
          "base_uri": "https://localhost:8080/"
        }
      },
      "outputs": [
        {
          "output_type": "stream",
          "name": "stdout",
          "text": [
            "Looking in indexes: https://pypi.org/simple, https://us-python.pkg.dev/colab-wheels/public/simple/\n",
            "Requirement already satisfied: yFinance in /usr/local/lib/python3.10/dist-packages (0.2.18)\n",
            "Requirement already satisfied: pandas>=1.3.0 in /usr/local/lib/python3.10/dist-packages (from yFinance) (1.5.3)\n",
            "Requirement already satisfied: numpy>=1.16.5 in /usr/local/lib/python3.10/dist-packages (from yFinance) (1.22.4)\n",
            "Requirement already satisfied: requests>=2.26 in /usr/local/lib/python3.10/dist-packages (from yFinance) (2.27.1)\n",
            "Requirement already satisfied: multitasking>=0.0.7 in /usr/local/lib/python3.10/dist-packages (from yFinance) (0.0.11)\n",
            "Requirement already satisfied: lxml>=4.9.1 in /usr/local/lib/python3.10/dist-packages (from yFinance) (4.9.2)\n",
            "Requirement already satisfied: appdirs>=1.4.4 in /usr/local/lib/python3.10/dist-packages (from yFinance) (1.4.4)\n",
            "Requirement already satisfied: pytz>=2022.5 in /usr/local/lib/python3.10/dist-packages (from yFinance) (2022.7.1)\n",
            "Requirement already satisfied: frozendict>=2.3.4 in /usr/local/lib/python3.10/dist-packages (from yFinance) (2.3.7)\n",
            "Requirement already satisfied: cryptography>=3.3.2 in /usr/local/lib/python3.10/dist-packages (from yFinance) (40.0.2)\n",
            "Requirement already satisfied: beautifulsoup4>=4.11.1 in /usr/local/lib/python3.10/dist-packages (from yFinance) (4.11.2)\n",
            "Requirement already satisfied: html5lib>=1.1 in /usr/local/lib/python3.10/dist-packages (from yFinance) (1.1)\n",
            "Requirement already satisfied: soupsieve>1.2 in /usr/local/lib/python3.10/dist-packages (from beautifulsoup4>=4.11.1->yFinance) (2.4.1)\n",
            "Requirement already satisfied: cffi>=1.12 in /usr/local/lib/python3.10/dist-packages (from cryptography>=3.3.2->yFinance) (1.15.1)\n",
            "Requirement already satisfied: six>=1.9 in /usr/local/lib/python3.10/dist-packages (from html5lib>=1.1->yFinance) (1.16.0)\n",
            "Requirement already satisfied: webencodings in /usr/local/lib/python3.10/dist-packages (from html5lib>=1.1->yFinance) (0.5.1)\n",
            "Requirement already satisfied: python-dateutil>=2.8.1 in /usr/local/lib/python3.10/dist-packages (from pandas>=1.3.0->yFinance) (2.8.2)\n",
            "Requirement already satisfied: urllib3<1.27,>=1.21.1 in /usr/local/lib/python3.10/dist-packages (from requests>=2.26->yFinance) (1.26.15)\n",
            "Requirement already satisfied: certifi>=2017.4.17 in /usr/local/lib/python3.10/dist-packages (from requests>=2.26->yFinance) (2022.12.7)\n",
            "Requirement already satisfied: charset-normalizer~=2.0.0 in /usr/local/lib/python3.10/dist-packages (from requests>=2.26->yFinance) (2.0.12)\n",
            "Requirement already satisfied: idna<4,>=2.5 in /usr/local/lib/python3.10/dist-packages (from requests>=2.26->yFinance) (3.4)\n",
            "Requirement already satisfied: pycparser in /usr/local/lib/python3.10/dist-packages (from cffi>=1.12->cryptography>=3.3.2->yFinance) (2.21)\n"
          ]
        }
      ],
      "source": [
        "!pip install yFinance\n",
        "# Yfinance is a Python library that provides convenient access to the Yahoo Finance API.\n",
        "# It allows users to download historical stock data, get real-time stock quotes, and obtain information about stock symbols,\n",
        "# such as company name and stock exchange."
      ]
    },
    {
      "cell_type": "code",
      "source": [
        "import yfinance as yf"
      ],
      "metadata": {
        "id": "DLT_3d2xEO-7"
      },
      "execution_count": null,
      "outputs": []
    },
    {
      "cell_type": "code",
      "source": [
        "tesla = yf.Ticker(\"TSLA\")\n",
        "#ticker contains information about the Tesla stock like its name, value and daily proce fluctuations"
      ],
      "metadata": {
        "id": "HH3EsDYbE2BS"
      },
      "execution_count": null,
      "outputs": []
    },
    {
      "cell_type": "code",
      "source": [
        "tesla_hist = tesla.history(period = \"max\")"
      ],
      "metadata": {
        "id": "Z8847hBsFR6p"
      },
      "execution_count": null,
      "outputs": []
    },
    {
      "cell_type": "markdown",
      "source": [
        "The code is using the history() method from the pandas_datareader module to get the historical stock price data of Tesla Inc.\n",
        "\n",
        "The period argument is set to \"max\", which means that the method will retrieve the historical data for the maximum time period available. In this case, it will retrieve the historical data from the earliest available date up to the present.\n",
        "\n",
        "After executing this code, the tesla_hist variable will contain a pandas DataFrame object with the historical stock price data of Tesla. The DataFrame will have columns for the date, opening price, high price, low price, closing price, and trading volume for each day."
      ],
      "metadata": {
        "id": "CHUTr2ANKxEg"
      }
    },
    {
      "cell_type": "code",
      "source": [
        "import pandas as pd"
      ],
      "metadata": {
        "id": "ICpGDb00FfL-"
      },
      "execution_count": null,
      "outputs": []
    },
    {
      "cell_type": "code",
      "source": [
        "tesla_hist.head(5)"
      ],
      "metadata": {
        "colab": {
          "base_uri": "https://localhost:8080/",
          "height": 385
        },
        "id": "irw6rbsYGGUg",
        "outputId": "08de9ecf-35e3-49d0-f2d7-ee91775ac9d6"
      },
      "execution_count": null,
      "outputs": [
        {
          "output_type": "execute_result",
          "data": {
            "text/plain": [
              "                               Open      High       Low     Close     Volume  \\\n",
              "Date                                                                           \n",
              "2010-06-29 00:00:00-04:00  1.266667  1.666667  1.169333  1.592667  281494500   \n",
              "2010-06-30 00:00:00-04:00  1.719333  2.028000  1.553333  1.588667  257806500   \n",
              "2010-07-01 00:00:00-04:00  1.666667  1.728000  1.351333  1.464000  123282000   \n",
              "2010-07-02 00:00:00-04:00  1.533333  1.540000  1.247333  1.280000   77097000   \n",
              "2010-07-06 00:00:00-04:00  1.333333  1.333333  1.055333  1.074000  103003500   \n",
              "\n",
              "                           Dividends  Stock Splits  \n",
              "Date                                                \n",
              "2010-06-29 00:00:00-04:00        0.0           0.0  \n",
              "2010-06-30 00:00:00-04:00        0.0           0.0  \n",
              "2010-07-01 00:00:00-04:00        0.0           0.0  \n",
              "2010-07-02 00:00:00-04:00        0.0           0.0  \n",
              "2010-07-06 00:00:00-04:00        0.0           0.0  "
            ],
            "text/html": [
              "\n",
              "  <div id=\"df-fa14d195-1ef2-4b41-bc42-73a917f0c5a8\">\n",
              "    <div class=\"colab-df-container\">\n",
              "      <div>\n",
              "<style scoped>\n",
              "    .dataframe tbody tr th:only-of-type {\n",
              "        vertical-align: middle;\n",
              "    }\n",
              "\n",
              "    .dataframe tbody tr th {\n",
              "        vertical-align: top;\n",
              "    }\n",
              "\n",
              "    .dataframe thead th {\n",
              "        text-align: right;\n",
              "    }\n",
              "</style>\n",
              "<table border=\"1\" class=\"dataframe\">\n",
              "  <thead>\n",
              "    <tr style=\"text-align: right;\">\n",
              "      <th></th>\n",
              "      <th>Open</th>\n",
              "      <th>High</th>\n",
              "      <th>Low</th>\n",
              "      <th>Close</th>\n",
              "      <th>Volume</th>\n",
              "      <th>Dividends</th>\n",
              "      <th>Stock Splits</th>\n",
              "    </tr>\n",
              "    <tr>\n",
              "      <th>Date</th>\n",
              "      <th></th>\n",
              "      <th></th>\n",
              "      <th></th>\n",
              "      <th></th>\n",
              "      <th></th>\n",
              "      <th></th>\n",
              "      <th></th>\n",
              "    </tr>\n",
              "  </thead>\n",
              "  <tbody>\n",
              "    <tr>\n",
              "      <th>2010-06-29 00:00:00-04:00</th>\n",
              "      <td>1.266667</td>\n",
              "      <td>1.666667</td>\n",
              "      <td>1.169333</td>\n",
              "      <td>1.592667</td>\n",
              "      <td>281494500</td>\n",
              "      <td>0.0</td>\n",
              "      <td>0.0</td>\n",
              "    </tr>\n",
              "    <tr>\n",
              "      <th>2010-06-30 00:00:00-04:00</th>\n",
              "      <td>1.719333</td>\n",
              "      <td>2.028000</td>\n",
              "      <td>1.553333</td>\n",
              "      <td>1.588667</td>\n",
              "      <td>257806500</td>\n",
              "      <td>0.0</td>\n",
              "      <td>0.0</td>\n",
              "    </tr>\n",
              "    <tr>\n",
              "      <th>2010-07-01 00:00:00-04:00</th>\n",
              "      <td>1.666667</td>\n",
              "      <td>1.728000</td>\n",
              "      <td>1.351333</td>\n",
              "      <td>1.464000</td>\n",
              "      <td>123282000</td>\n",
              "      <td>0.0</td>\n",
              "      <td>0.0</td>\n",
              "    </tr>\n",
              "    <tr>\n",
              "      <th>2010-07-02 00:00:00-04:00</th>\n",
              "      <td>1.533333</td>\n",
              "      <td>1.540000</td>\n",
              "      <td>1.247333</td>\n",
              "      <td>1.280000</td>\n",
              "      <td>77097000</td>\n",
              "      <td>0.0</td>\n",
              "      <td>0.0</td>\n",
              "    </tr>\n",
              "    <tr>\n",
              "      <th>2010-07-06 00:00:00-04:00</th>\n",
              "      <td>1.333333</td>\n",
              "      <td>1.333333</td>\n",
              "      <td>1.055333</td>\n",
              "      <td>1.074000</td>\n",
              "      <td>103003500</td>\n",
              "      <td>0.0</td>\n",
              "      <td>0.0</td>\n",
              "    </tr>\n",
              "  </tbody>\n",
              "</table>\n",
              "</div>\n",
              "      <button class=\"colab-df-convert\" onclick=\"convertToInteractive('df-fa14d195-1ef2-4b41-bc42-73a917f0c5a8')\"\n",
              "              title=\"Convert this dataframe to an interactive table.\"\n",
              "              style=\"display:none;\">\n",
              "        \n",
              "  <svg xmlns=\"http://www.w3.org/2000/svg\" height=\"24px\"viewBox=\"0 0 24 24\"\n",
              "       width=\"24px\">\n",
              "    <path d=\"M0 0h24v24H0V0z\" fill=\"none\"/>\n",
              "    <path d=\"M18.56 5.44l.94 2.06.94-2.06 2.06-.94-2.06-.94-.94-2.06-.94 2.06-2.06.94zm-11 1L8.5 8.5l.94-2.06 2.06-.94-2.06-.94L8.5 2.5l-.94 2.06-2.06.94zm10 10l.94 2.06.94-2.06 2.06-.94-2.06-.94-.94-2.06-.94 2.06-2.06.94z\"/><path d=\"M17.41 7.96l-1.37-1.37c-.4-.4-.92-.59-1.43-.59-.52 0-1.04.2-1.43.59L10.3 9.45l-7.72 7.72c-.78.78-.78 2.05 0 2.83L4 21.41c.39.39.9.59 1.41.59.51 0 1.02-.2 1.41-.59l7.78-7.78 2.81-2.81c.8-.78.8-2.07 0-2.86zM5.41 20L4 18.59l7.72-7.72 1.47 1.35L5.41 20z\"/>\n",
              "  </svg>\n",
              "      </button>\n",
              "      \n",
              "  <style>\n",
              "    .colab-df-container {\n",
              "      display:flex;\n",
              "      flex-wrap:wrap;\n",
              "      gap: 12px;\n",
              "    }\n",
              "\n",
              "    .colab-df-convert {\n",
              "      background-color: #E8F0FE;\n",
              "      border: none;\n",
              "      border-radius: 50%;\n",
              "      cursor: pointer;\n",
              "      display: none;\n",
              "      fill: #1967D2;\n",
              "      height: 32px;\n",
              "      padding: 0 0 0 0;\n",
              "      width: 32px;\n",
              "    }\n",
              "\n",
              "    .colab-df-convert:hover {\n",
              "      background-color: #E2EBFA;\n",
              "      box-shadow: 0px 1px 2px rgba(60, 64, 67, 0.3), 0px 1px 3px 1px rgba(60, 64, 67, 0.15);\n",
              "      fill: #174EA6;\n",
              "    }\n",
              "\n",
              "    [theme=dark] .colab-df-convert {\n",
              "      background-color: #3B4455;\n",
              "      fill: #D2E3FC;\n",
              "    }\n",
              "\n",
              "    [theme=dark] .colab-df-convert:hover {\n",
              "      background-color: #434B5C;\n",
              "      box-shadow: 0px 1px 3px 1px rgba(0, 0, 0, 0.15);\n",
              "      filter: drop-shadow(0px 1px 2px rgba(0, 0, 0, 0.3));\n",
              "      fill: #FFFFFF;\n",
              "    }\n",
              "  </style>\n",
              "\n",
              "      <script>\n",
              "        const buttonEl =\n",
              "          document.querySelector('#df-fa14d195-1ef2-4b41-bc42-73a917f0c5a8 button.colab-df-convert');\n",
              "        buttonEl.style.display =\n",
              "          google.colab.kernel.accessAllowed ? 'block' : 'none';\n",
              "\n",
              "        async function convertToInteractive(key) {\n",
              "          const element = document.querySelector('#df-fa14d195-1ef2-4b41-bc42-73a917f0c5a8');\n",
              "          const dataTable =\n",
              "            await google.colab.kernel.invokeFunction('convertToInteractive',\n",
              "                                                     [key], {});\n",
              "          if (!dataTable) return;\n",
              "\n",
              "          const docLinkHtml = 'Like what you see? Visit the ' +\n",
              "            '<a target=\"_blank\" href=https://colab.research.google.com/notebooks/data_table.ipynb>data table notebook</a>'\n",
              "            + ' to learn more about interactive tables.';\n",
              "          element.innerHTML = '';\n",
              "          dataTable['output_type'] = 'display_data';\n",
              "          await google.colab.output.renderOutput(dataTable, element);\n",
              "          const docLink = document.createElement('div');\n",
              "          docLink.innerHTML = docLinkHtml;\n",
              "          element.appendChild(docLink);\n",
              "        }\n",
              "      </script>\n",
              "    </div>\n",
              "  </div>\n",
              "  "
            ]
          },
          "metadata": {},
          "execution_count": 7
        }
      ]
    },
    {
      "cell_type": "code",
      "source": [
        "tesla_hist.shape"
      ],
      "metadata": {
        "colab": {
          "base_uri": "https://localhost:8080/"
        },
        "id": "mVfOWjvp6AuS",
        "outputId": "31b4c5aa-91ba-4db5-d4d9-94764674f24f"
      },
      "execution_count": null,
      "outputs": [
        {
          "output_type": "execute_result",
          "data": {
            "text/plain": [
              "(3244, 7)"
            ]
          },
          "metadata": {},
          "execution_count": 9
        }
      ]
    },
    {
      "cell_type": "markdown",
      "source": [
        "calling the head() method with an argument of 5 on the tesla_hist DataFrame will show the first five rows of the DataFrame.\n",
        "\n",
        "Each row will represent a day of trading for Tesla"
      ],
      "metadata": {
        "id": "xFU8cB5-LGZH"
      }
    },
    {
      "cell_type": "code",
      "source": [
        "tesla_hist.plot.line(y=\"Close\", use_index=True)"
      ],
      "metadata": {
        "colab": {
          "base_uri": "https://localhost:8080/",
          "height": 439
        },
        "id": "6Y16SZSQLGaz",
        "outputId": "9869387b-1282-4ed7-bd89-9fbeb803126f"
      },
      "execution_count": null,
      "outputs": [
        {
          "output_type": "execute_result",
          "data": {
            "text/plain": [
              "<Axes: xlabel='Date'>"
            ]
          },
          "metadata": {},
          "execution_count": 7
        },
        {
          "output_type": "display_data",
          "data": {
            "text/plain": [
              "<Figure size 640x480 with 1 Axes>"
            ],
            "image/png": "[encoded data removed]"
          },
          "metadata": {}
        }
      ]
    },
    {
      "cell_type": "markdown",
      "source": [
        "The y argument is set to \"Close\", which means that the plot will display the closing prices of Tesla. The use_index argument is set to True, which means that the index of the DataFrame will be used as the x-axis for the plot.\n",
        "\n",
        "In more detail, the plot() method creates a plot of the DataFrame, with the x-axis representing the index of the DataFrame (which should be dates in this case), and the y-axis representing the specified column (Close in this case). Since plot() is called with line as an argument, it creates a line plot.\n",
        "\n",
        "Therefore, the resulting plot will show the closing prices of Tesla over time as a continuous line. The x-axis will represent the dates, and the y-axis will represent the closing prices of Tesla. The plot will show the changes in the closing prices of Tesla over time, which can help visualize the trends in the stock prices and identify any patterns or irregularities in the data."
      ],
      "metadata": {
        "id": "yYiDhLkwLWTo"
      }
    },
    {
      "cell_type": "code",
      "source": [
        "# Ensure we know the actual closing price\n",
        "data = tesla_hist[[\"Close\"]]\n",
        "data = data.rename(columns = {'Close':'Actual_Close'})"
      ],
      "metadata": {
        "id": "CJq9-EHXMTmW"
      },
      "execution_count": null,
      "outputs": []
    },
    {
      "cell_type": "markdown",
      "source": [
        "The code data = tesla_hist[[\"Close\"]] is creating a new DataFrame data that contains only the \"Close\" column from the tesla_hist DataFrame. The double brackets [[ and ]] are used to select a column as a DataFrame instead of a Series.\n",
        "\n",
        "The code data = data.rename(columns = {'Close':'Actual_Close'}) is then renaming the column label from \"Close\" to \"Actual_Close\" using the rename() method from the pandas module. This means that the new DataFrame data will have only one column named \"Actual_Close\", which contains the closing stock prices of Tesla over time.\n",
        "\n",
        "The rename() method is called with a dictionary that specifies the mapping between the old column name (\"Close\") and the new column name (\"Actual_Close\"). This means that the label of the \"Close\" column in the new DataFrame data will be changed to \"Actual_Close\".\n",
        "\n",
        "By doing this, the code is creating a DataFrame with a column of closing prices of Tesla, and renaming the column label to a more specific name to differentiate it from other columns that might be present in the original DataFrame. This can be useful when working with multiple columns of data or when preparing the data for further analysis or visualization."
      ],
      "metadata": {
        "id": "242J2t4dL4gb"
      }
    },
    {
      "cell_type": "code",
      "source": [
        "data.drop(index = data.index[0],axis=0, inplace=True)"
      ],
      "metadata": {
        "id": "VeU3hhQuRGbI"
      },
      "execution_count": null,
      "outputs": []
    },
    {
      "cell_type": "markdown",
      "source": [
        "The code data.drop(index = data.index[0],axis=0, inplace=True) is using the drop() method from the pandas module to remove the first row of the data DataFrame.\n",
        "\n",
        "The index argument is set to data.index[0], which means that the method will select the first index label of the DataFrame as the row to drop. The axis argument is set to 0, which means that the method will drop the specified row(s) by label from the index (i.e., along the rows).\n",
        "\n",
        "The inplace argument is set to True, which means that the drop() method will modify the data DataFrame in place, rather than returning a new DataFrame.\n",
        "\n",
        "Therefore, after executing this code, the first row of the data DataFrame (which should correspond to the oldest closing stock price data for Tesla) will be removed. This can be useful if the first row contains incomplete or irrelevant data, or if the data is being prepared for further analysis or modeling that requires a complete and consistent set of data."
      ],
      "metadata": {
        "id": "aIJCvrG-Mdhk"
      }
    },
    {
      "cell_type": "code",
      "source": [
        "# Shift stock prices forward one day, so we're predicting tomorrow's stock prices from today's prices.\n",
        "tesla_prev = tesla_hist.copy()\n",
        "tesla_prev = tesla_prev.shift(1)"
      ],
      "metadata": {
        "id": "1gGPmRJJM1Hi"
      },
      "execution_count": null,
      "outputs": []
    },
    {
      "cell_type": "markdown",
      "source": [
        "The code tesla_prev = tesla_hist.copy() creates a new DataFrame called tesla_prev that is a copy of the original tesla_hist DataFrame.\n",
        "\n",
        "The copy() method from the pandas module is used to create a new DataFrame with the same data and index as the original DataFrame. This is done to ensure that any modifications made to the new DataFrame do not affect the original DataFrame.\n",
        "\n",
        "The code tesla_prev = tesla_prev.shift(1) uses the shift() method from the pandas module to shift all the values in the tesla_prev DataFrame one row down (i.e., to the previous row).\n",
        "\n",
        "The argument 1 passed to the shift() method specifies the number of rows to shift the data by. By setting this value to 1, the shift() method shifts all the values in the DataFrame one row down, with the first row becoming NaN (missing data).\n",
        "\n",
        "Therefore, the resulting tesla_prev DataFrame will have the same data as the original tesla_hist DataFrame, but with all values shifted down one row, and with the first row of data being replaced by NaN values. This can be useful when comparing the values of two consecutive rows in a DataFrame, which is a common technique in time series analysis."
      ],
      "metadata": {
        "id": "BDkzmHjeNHmE"
      }
    },
    {
      "cell_type": "code",
      "source": [
        "tesla_prev.tail(5)"
      ],
      "metadata": {
        "colab": {
          "base_uri": "https://localhost:8080/",
          "height": 237
        },
        "id": "OeZg3l45NEaR",
        "outputId": "4cb95003-eda2-4c8e-e162-25943a0cbefd"
      },
      "execution_count": null,
      "outputs": [
        {
          "output_type": "execute_result",
          "data": {
            "text/plain": [
              "                                 Open        High         Low       Close  \\\n",
              "Date                                                                        \n",
              "2023-05-09 00:00:00-04:00  173.720001  173.800003  169.190002  171.789993   \n",
              "2023-05-10 00:00:00-04:00  168.949997  169.820007  166.559998  169.149994   \n",
              "2023-05-11 00:00:00-04:00  172.550003  174.429993  166.679993  168.539993   \n",
              "2023-05-12 00:00:00-04:00  168.699997  173.570007  166.789993  172.080002   \n",
              "2023-05-15 00:00:00-04:00  176.070007  177.380005  167.229996  167.979996   \n",
              "\n",
              "                                Volume  Dividends  Stock Splits  \n",
              "Date                                                             \n",
              "2023-05-09 00:00:00-04:00  112249400.0        0.0           0.0  \n",
              "2023-05-10 00:00:00-04:00   88965000.0        0.0           0.0  \n",
              "2023-05-11 00:00:00-04:00  119840700.0        0.0           0.0  \n",
              "2023-05-12 00:00:00-04:00  103889900.0        0.0           0.0  \n",
              "2023-05-15 00:00:00-04:00  157577100.0        0.0           0.0  "
            ],
            "text/html": [
              "\n",
              "  <div id=\"df-c92edae0-2559-47cd-9b4b-d8a04afa1803\">\n",
              "    <div class=\"colab-df-container\">\n",
              "      <div>\n",
              "<style scoped>\n",
              "    .dataframe tbody tr th:only-of-type {\n",
              "        vertical-align: middle;\n",
              "    }\n",
              "\n",
              "    .dataframe tbody tr th {\n",
              "        vertical-align: top;\n",
              "    }\n",
              "\n",
              "    .dataframe thead th {\n",
              "        text-align: right;\n",
              "    }\n",
              "</style>\n",
              "<table border=\"1\" class=\"dataframe\">\n",
              "  <thead>\n",
              "    <tr style=\"text-align: right;\">\n",
              "      <th></th>\n",
              "      <th>Open</th>\n",
              "      <th>High</th>\n",
              "      <th>Low</th>\n",
              "      <th>Close</th>\n",
              "      <th>Volume</th>\n",
              "      <th>Dividends</th>\n",
              "      <th>Stock Splits</th>\n",
              "    </tr>\n",
              "    <tr>\n",
              "      <th>Date</th>\n",
              "      <th></th>\n",
              "      <th></th>\n",
              "      <th></th>\n",
              "      <th></th>\n",
              "      <th></th>\n",
              "      <th></th>\n",
              "      <th></th>\n",
              "    </tr>\n",
              "  </thead>\n",
              "  <tbody>\n",
              "    <tr>\n",
              "      <th>2023-05-09 00:00:00-04:00</th>\n",
              "      <td>173.720001</td>\n",
              "      <td>173.800003</td>\n",
              "      <td>169.190002</td>\n",
              "      <td>171.789993</td>\n",
              "      <td>112249400.0</td>\n",
              "      <td>0.0</td>\n",
              "      <td>0.0</td>\n",
              "    </tr>\n",
              "    <tr>\n",
              "      <th>2023-05-10 00:00:00-04:00</th>\n",
              "      <td>168.949997</td>\n",
              "      <td>169.820007</td>\n",
              "      <td>166.559998</td>\n",
              "      <td>169.149994</td>\n",
              "      <td>88965000.0</td>\n",
              "      <td>0.0</td>\n",
              "      <td>0.0</td>\n",
              "    </tr>\n",
              "    <tr>\n",
              "      <th>2023-05-11 00:00:00-04:00</th>\n",
              "      <td>172.550003</td>\n",
              "      <td>174.429993</td>\n",
              "      <td>166.679993</td>\n",
              "      <td>168.539993</td>\n",
              "      <td>119840700.0</td>\n",
              "      <td>0.0</td>\n",
              "      <td>0.0</td>\n",
              "    </tr>\n",
              "    <tr>\n",
              "      <th>2023-05-12 00:00:00-04:00</th>\n",
              "      <td>168.699997</td>\n",
              "      <td>173.570007</td>\n",
              "      <td>166.789993</td>\n",
              "      <td>172.080002</td>\n",
              "      <td>103889900.0</td>\n",
              "      <td>0.0</td>\n",
              "      <td>0.0</td>\n",
              "    </tr>\n",
              "    <tr>\n",
              "      <th>2023-05-15 00:00:00-04:00</th>\n",
              "      <td>176.070007</td>\n",
              "      <td>177.380005</td>\n",
              "      <td>167.229996</td>\n",
              "      <td>167.979996</td>\n",
              "      <td>157577100.0</td>\n",
              "      <td>0.0</td>\n",
              "      <td>0.0</td>\n",
              "    </tr>\n",
              "  </tbody>\n",
              "</table>\n",
              "</div>\n",
              "      <button class=\"colab-df-convert\" onclick=\"convertToInteractive('df-c92edae0-2559-47cd-9b4b-d8a04afa1803')\"\n",
              "              title=\"Convert this dataframe to an interactive table.\"\n",
              "              style=\"display:none;\">\n",
              "        \n",
              "  <svg xmlns=\"http://www.w3.org/2000/svg\" height=\"24px\"viewBox=\"0 0 24 24\"\n",
              "       width=\"24px\">\n",
              "    <path d=\"M0 0h24v24H0V0z\" fill=\"none\"/>\n",
              "    <path d=\"M18.56 5.44l.94 2.06.94-2.06 2.06-.94-2.06-.94-.94-2.06-.94 2.06-2.06.94zm-11 1L8.5 8.5l.94-2.06 2.06-.94-2.06-.94L8.5 2.5l-.94 2.06-2.06.94zm10 10l.94 2.06.94-2.06 2.06-.94-2.06-.94-.94-2.06-.94 2.06-2.06.94z\"/><path d=\"M17.41 7.96l-1.37-1.37c-.4-.4-.92-.59-1.43-.59-.52 0-1.04.2-1.43.59L10.3 9.45l-7.72 7.72c-.78.78-.78 2.05 0 2.83L4 21.41c.39.39.9.59 1.41.59.51 0 1.02-.2 1.41-.59l7.78-7.78 2.81-2.81c.8-.78.8-2.07 0-2.86zM5.41 20L4 18.59l7.72-7.72 1.47 1.35L5.41 20z\"/>\n",
              "  </svg>\n",
              "      </button>\n",
              "      \n",
              "  <style>\n",
              "    .colab-df-container {\n",
              "      display:flex;\n",
              "      flex-wrap:wrap;\n",
              "      gap: 12px;\n",
              "    }\n",
              "\n",
              "    .colab-df-convert {\n",
              "      background-color: #E8F0FE;\n",
              "      border: none;\n",
              "      border-radius: 50%;\n",
              "      cursor: pointer;\n",
              "      display: none;\n",
              "      fill: #1967D2;\n",
              "      height: 32px;\n",
              "      padding: 0 0 0 0;\n",
              "      width: 32px;\n",
              "    }\n",
              "\n",
              "    .colab-df-convert:hover {\n",
              "      background-color: #E2EBFA;\n",
              "      box-shadow: 0px 1px 2px rgba(60, 64, 67, 0.3), 0px 1px 3px 1px rgba(60, 64, 67, 0.15);\n",
              "      fill: #174EA6;\n",
              "    }\n",
              "\n",
              "    [theme=dark] .colab-df-convert {\n",
              "      background-color: #3B4455;\n",
              "      fill: #D2E3FC;\n",
              "    }\n",
              "\n",
              "    [theme=dark] .colab-df-convert:hover {\n",
              "      background-color: #434B5C;\n",
              "      box-shadow: 0px 1px 3px 1px rgba(0, 0, 0, 0.15);\n",
              "      filter: drop-shadow(0px 1px 2px rgba(0, 0, 0, 0.3));\n",
              "      fill: #FFFFFF;\n",
              "    }\n",
              "  </style>\n",
              "\n",
              "      <script>\n",
              "        const buttonEl =\n",
              "          document.querySelector('#df-c92edae0-2559-47cd-9b4b-d8a04afa1803 button.colab-df-convert');\n",
              "        buttonEl.style.display =\n",
              "          google.colab.kernel.accessAllowed ? 'block' : 'none';\n",
              "\n",
              "        async function convertToInteractive(key) {\n",
              "          const element = document.querySelector('#df-c92edae0-2559-47cd-9b4b-d8a04afa1803');\n",
              "          const dataTable =\n",
              "            await google.colab.kernel.invokeFunction('convertToInteractive',\n",
              "                                                     [key], {});\n",
              "          if (!dataTable) return;\n",
              "\n",
              "          const docLinkHtml = 'Like what you see? Visit the ' +\n",
              "            '<a target=\"_blank\" href=https://colab.research.google.com/notebooks/data_table.ipynb>data table notebook</a>'\n",
              "            + ' to learn more about interactive tables.';\n",
              "          element.innerHTML = '';\n",
              "          dataTable['output_type'] = 'display_data';\n",
              "          await google.colab.output.renderOutput(dataTable, element);\n",
              "          const docLink = document.createElement('div');\n",
              "          docLink.innerHTML = docLinkHtml;\n",
              "          element.appendChild(docLink);\n",
              "        }\n",
              "      </script>\n",
              "    </div>\n",
              "  </div>\n",
              "  "
            ]
          },
          "metadata": {},
          "execution_count": 11
        }
      ]
    },
    {
      "cell_type": "code",
      "source": [
        "tesla_prev.drop(index=tesla_prev.index[0], axis=0, inplace=True)"
      ],
      "metadata": {
        "id": "VZH0o0f2OiDp"
      },
      "execution_count": null,
      "outputs": []
    },
    {
      "cell_type": "markdown",
      "source": [
        "The code tesla_prev.drop(index=tesla_prev.index[0], axis=0, inplace=True) drops the first row of the tesla_prev DataFrame.\n",
        "\n",
        "The drop() method from the pandas module is used to remove the row specified by the index argument. In this case, the index value of the first row (i.e., tesla_prev.index[0]) is used to select the first row of the DataFrame to be dropped.\n",
        "\n",
        "The axis argument is set to 0, which means that the method will drop the specified row(s) by label from the index (i.e., along the rows).\n",
        "\n",
        "The inplace argument is set to True, which means that the drop() method will modify the tesla_prev DataFrame in place, rather than returning a new DataFrame.\n",
        "\n",
        "Therefore, after executing this code, the first row of the tesla_prev DataFrame (which corresponds to the shifted data with NaN values in the first row) will be removed. This is done to ensure that both the tesla_prev and data DataFrames have the same number of rows and can be used for further analysis or modeling."
      ],
      "metadata": {
        "id": "p-DU9m3FNfRd"
      }
    },
    {
      "cell_type": "code",
      "source": [
        "x = tesla_prev[['Open','High','Low','Volume']].values\n",
        "y = tesla_prev['Close'].values"
      ],
      "metadata": {
        "id": "J_zHDJUONTYO"
      },
      "execution_count": null,
      "outputs": []
    },
    {
      "cell_type": "markdown",
      "source": [
        "The code `x = tesla_prev[['Open','High','Low','Volume']].values` creates a new DataFrame `x` that contains the columns \"Open\", \"High\", \"Low\", and \"Volume\" from the `tesla_prev` DataFrame.\n",
        "\n",
        "The double brackets `[[` and `]]` are used to select multiple columns as a DataFrame instead of a Series. The `values` attribute is then used to extract the values of the selected columns as a NumPy array.\n",
        "\n",
        "Therefore, the resulting `x` NumPy array will have four columns corresponding to the opening price, highest price, lowest price, and volume of the previous day, respectively.\n",
        "\n",
        "The code `y = tesla_prev['Close'].values` creates a new NumPy array `y` that contains the \"Close\" column from the `tesla_prev` DataFrame.\n",
        "\n",
        "Therefore, the resulting `y` NumPy array will have only one column corresponding to the closing price of the previous day."
      ],
      "metadata": {
        "id": "ypFwL3LLNxYL"
      }
    },
    {
      "cell_type": "code",
      "source": [
        "from sklearn.model_selection import train_test_split\n",
        "from sklearn.linear_model import LinearRegression\n",
        "from sklearn import metrics\n",
        "from sklearn.metrics import r2_score"
      ],
      "metadata": {
        "id": "U9qIIFaYN51D"
      },
      "execution_count": null,
      "outputs": []
    },
    {
      "cell_type": "code",
      "source": [
        "x_train,x_test,y_train,y_test = train_test_split(x,y,test_size = 0.5, random_state = 42)"
      ],
      "metadata": {
        "id": "MeOChkAUNwPw"
      },
      "execution_count": null,
      "outputs": []
    },
    {
      "cell_type": "markdown",
      "source": [
        "The code `x_train,x_test,y_train,y_test = train_test_split(x,y,test_size = 0.5, random_state = 42)` is using the `train_test_split()` function from the `sklearn.model_selection` module to split the data into training and testing sets.\n",
        "\n",
        "The `x` and `y` arrays are the input data (features and target variable, respectively) that will be split into training and testing sets.\n",
        "\n",
        "The `test_size` argument is set to `0.5`, which means that the data will be split in half, with 50% of the data used for training and 50% used for testing.\n",
        "\n",
        "The `random_state` argument is set to `42`, which is used to ensure that the data is split in the same way each time the code is run (i.e., to ensure reproducibility).\n",
        "\n",
        "The `train_test_split()` function returns four arrays: `x_train`, `x_test`, `y_train`, and `y_test`. The `x_train` and `y_train` arrays contain the training data (features and target variable, respectively), while the `x_test` and `y_test` arrays contain the testing data (features and target variable, respectively).\n",
        "\n",
        "Therefore, after executing this code, the data is split into two sets: one for training the machine learning model (`x_train` and `y_train`) and one for testing the performance of the model (`x_test` and `y_test`)."
      ],
      "metadata": {
        "id": "s0JfGmi-OTHl"
      }
    },
    {
      "cell_type": "code",
      "source": [
        "regressor = LinearRegression()"
      ],
      "metadata": {
        "id": "zZgZ7hxCN_Wl"
      },
      "execution_count": null,
      "outputs": []
    },
    {
      "cell_type": "markdown",
      "source": [
        "The code `regressor = LinearRegression()` creates a new instance of the `LinearRegression` class from the `sklearn.linear_model` module.\n",
        "\n",
        "The `LinearRegression` class is a machine learning model that is commonly used for linear regression tasks. It fits a linear function to the input data by minimizing the sum of squared errors between the predicted values and the actual values.\n",
        "\n",
        "The `regressor` object is created as an instance of the `LinearRegression` class, which means that it has all the methods and attributes of that class. It can be used to fit a linear regression model to the training data and make predictions on new data.\n",
        "\n",
        "Therefore, after executing this code, the `regressor` object is an instance of the `LinearRegression` class that can be used to train a linear regression model."
      ],
      "metadata": {
        "id": "qaUupOYmOrzA"
      }
    },
    {
      "cell_type": "code",
      "source": [
        "regressor.fit(x_train , y_train)"
      ],
      "metadata": {
        "colab": {
          "base_uri": "https://localhost:8080/",
          "height": 74
        },
        "id": "uDWI5HUhOBA9",
        "outputId": "fa66be2a-8073-4abe-ffce-cf612a3ba497"
      },
      "execution_count": null,
      "outputs": [
        {
          "output_type": "execute_result",
          "data": {
            "text/plain": [
              "LinearRegression()"
            ],
            "text/html": [
              "<style>#sk-container-id-1 {color: black;background-color: white;}#sk-container-id-1 pre{padding: 0;}#sk-container-id-1 div.sk-toggleable {background-color: white;}#sk-container-id-1 label.sk-toggleable__label {cursor: pointer;display: block;width: 100%;margin-bottom: 0;padding: 0.3em;box-sizing: border-box;text-align: center;}#sk-container-id-1 label.sk-toggleable__label-arrow:before {content: \"▸\";float: left;margin-right: 0.25em;color: #696969;}#sk-container-id-1 label.sk-toggleable__label-arrow:hover:before {color: black;}#sk-container-id-1 div.sk-estimator:hover label.sk-toggleable__label-arrow:before {color: black;}#sk-container-id-1 div.sk-toggleable__content {max-height: 0;max-width: 0;overflow: hidden;text-align: left;background-color: #f0f8ff;}#sk-container-id-1 div.sk-toggleable__content pre {margin: 0.2em;color: black;border-radius: 0.25em;background-color: #f0f8ff;}#sk-container-id-1 input.sk-toggleable__control:checked~div.sk-toggleable__content {max-height: 200px;max-width: 100%;overflow: auto;}#sk-container-id-1 input.sk-toggleable__control:checked~label.sk-toggleable__label-arrow:before {content: \"▾\";}#sk-container-id-1 div.sk-estimator input.sk-toggleable__control:checked~label.sk-toggleable__label {background-color: #d4ebff;}#sk-container-id-1 div.sk-label input.sk-toggleable__control:checked~label.sk-toggleable__label {background-color: #d4ebff;}#sk-container-id-1 input.sk-hidden--visually {border: 0;clip: rect(1px 1px 1px 1px);clip: rect(1px, 1px, 1px, 1px);height: 1px;margin: -1px;overflow: hidden;padding: 0;position: absolute;width: 1px;}#sk-container-id-1 div.sk-estimator {font-family: monospace;background-color: #f0f8ff;border: 1px dotted black;border-radius: 0.25em;box-sizing: border-box;margin-bottom: 0.5em;}#sk-container-id-1 div.sk-estimator:hover {background-color: #d4ebff;}#sk-container-id-1 div.sk-parallel-item::after {content: \"\";width: 100%;border-bottom: 1px solid gray;flex-grow: 1;}#sk-container-id-1 div.sk-label:hover label.sk-toggleable__label {background-color: #d4ebff;}#sk-container-id-1 div.sk-serial::before {content: \"\";position: absolute;border-left: 1px solid gray;box-sizing: border-box;top: 0;bottom: 0;left: 50%;z-index: 0;}#sk-container-id-1 div.sk-serial {display: flex;flex-direction: column;align-items: center;background-color: white;padding-right: 0.2em;padding-left: 0.2em;position: relative;}#sk-container-id-1 div.sk-item {position: relative;z-index: 1;}#sk-container-id-1 div.sk-parallel {display: flex;align-items: stretch;justify-content: center;background-color: white;position: relative;}#sk-container-id-1 div.sk-item::before, #sk-container-id-1 div.sk-parallel-item::before {content: \"\";position: absolute;border-left: 1px solid gray;box-sizing: border-box;top: 0;bottom: 0;left: 50%;z-index: -1;}#sk-container-id-1 div.sk-parallel-item {display: flex;flex-direction: column;z-index: 1;position: relative;background-color: white;}#sk-container-id-1 div.sk-parallel-item:first-child::after {align-self: flex-end;width: 50%;}#sk-container-id-1 div.sk-parallel-item:last-child::after {align-self: flex-start;width: 50%;}#sk-container-id-1 div.sk-parallel-item:only-child::after {width: 0;}#sk-container-id-1 div.sk-dashed-wrapped {border: 1px dashed gray;margin: 0 0.4em 0.5em 0.4em;box-sizing: border-box;padding-bottom: 0.4em;background-color: white;}#sk-container-id-1 div.sk-label label {font-family: monospace;font-weight: bold;display: inline-block;line-height: 1.2em;}#sk-container-id-1 div.sk-label-container {text-align: center;}#sk-container-id-1 div.sk-container {/* jupyter's `normalize.less` sets `[hidden] { display: none; }` but bootstrap.min.css set `[hidden] { display: none !important; }` so we also need the `!important` here to be able to override the default hidden behavior on the sphinx rendered scikit-learn.org. See: https://github.com/scikit-learn/scikit-learn/issues/21755 */display: inline-block !important;position: relative;}#sk-container-id-1 div.sk-text-repr-fallback {display: none;}</style><div id=\"sk-container-id-1\" class=\"sk-top-container\"><div class=\"sk-text-repr-fallback\"><pre>LinearRegression()</pre><b>In a Jupyter environment, please rerun this cell to show the HTML representation or trust the notebook. <br />On GitHub, the HTML representation is unable to render, please try loading this page with nbviewer.org.</b></div><div class=\"sk-container\" hidden><div class=\"sk-item\"><div class=\"sk-estimator sk-toggleable\"><input class=\"sk-toggleable__control sk-hidden--visually\" id=\"sk-estimator-id-1\" type=\"checkbox\" checked><label for=\"sk-estimator-id-1\" class=\"sk-toggleable__label sk-toggleable__label-arrow\">LinearRegression</label><div class=\"sk-toggleable__content\"><pre>LinearRegression()</pre></div></div></div></div></div>"
            ]
          },
          "metadata": {},
          "execution_count": 17
        }
      ]
    },
    {
      "cell_type": "markdown",
      "source": [
        "The code `regressor.fit(x_train , y_train)` trains the linear regression model using the training data.\n",
        "\n",
        "The `fit()` method is a built-in method of the `LinearRegression` class that takes the training data (`x_train` and `y_train`) as input and fits the linear regression model to the training data.\n",
        "\n",
        "The `x_train` array contains the input features for the training set (i.e., the opening price, highest price, lowest price, and volume of the previous day), while the `y_train` array contains the corresponding target values (i.e., the closing price of the previous day).\n",
        "\n",
        "After executing this code, the `regressor` object is trained on the training data and can be used to make predictions on new data."
      ],
      "metadata": {
        "id": "81ozpElaO1XJ"
      }
    },
    {
      "cell_type": "code",
      "source": [
        "print(regressor.coef_)"
      ],
      "metadata": {
        "colab": {
          "base_uri": "https://localhost:8080/"
        },
        "id": "EcibL9zaRt9p",
        "outputId": "fc7a18bf-5397-4d24-f85c-4ec6008253f5"
      },
      "execution_count": null,
      "outputs": [
        {
          "output_type": "stream",
          "name": "stdout",
          "text": [
            "[-6.80547301e-01  8.61846564e-01  8.19249749e-01  3.42378903e-10]\n"
          ]
        }
      ]
    },
    {
      "cell_type": "markdown",
      "source": [
        "The code `print(regressor.coef_)` prints the coefficients of the linear regression model.\n",
        "\n",
        "The `coef_` attribute is a built-in attribute of the `LinearRegression` class that returns an array of coefficients for each input feature. Each coefficient represents the change in the target variable (i.e., the closing price of the previous day) for a unit change in the corresponding input feature (i.e., opening price, highest price, lowest price, and volume of the previous day).\n",
        "\n",
        "Therefore, after executing this code, the coefficients of the linear regression model are printed to the console. These coefficients can be used to interpret the relationship between the input features and the target variable and to make predictions on new data."
      ],
      "metadata": {
        "id": "hQ5L89G2PA37"
      }
    },
    {
      "cell_type": "code",
      "source": [
        "print(regressor.intercept_)"
      ],
      "metadata": {
        "colab": {
          "base_uri": "https://localhost:8080/"
        },
        "id": "nTmOiKesRx0O",
        "outputId": "204d7e3c-e708-459d-e8f8-1c8bb679f6d2"
      },
      "execution_count": null,
      "outputs": [
        {
          "output_type": "stream",
          "name": "stdout",
          "text": [
            "-0.0340941590013486\n"
          ]
        }
      ]
    },
    {
      "cell_type": "markdown",
      "source": [
        "The code `print(regressor.intercept_)` prints the intercept of the linear regression model.\n",
        "\n",
        "The `intercept_` attribute is a built-in attribute of the `LinearRegression` class that returns the intercept of the linear regression model. The intercept represents the predicted value of the target variable when all input features are equal to zero.\n",
        "\n",
        "Therefore, after executing this code, the intercept of the linear regression model is printed to the console. This intercept can be used to interpret the bias of the model and to make predictions on new data."
      ],
      "metadata": {
        "id": "U2GtvKfuPN4B"
      }
    },
    {
      "cell_type": "code",
      "source": [
        "predicted = regressor.predict(x_test)"
      ],
      "metadata": {
        "id": "p6dfa_XIR1Xw"
      },
      "execution_count": null,
      "outputs": []
    },
    {
      "cell_type": "markdown",
      "source": [
        "The code `predicted = regressor.predict(x_test)` uses the trained linear regression model (`regressor`) to make predictions on the test data (`x_test`).\n",
        "\n",
        "The `predict()` method is a built-in method of the `LinearRegression` class that takes the input features of the test data (`x_test`) as input and returns the predicted target variable values.\n",
        "\n",
        "After executing this code, the `predicted` array contains the predicted target variable values for the test data. These predicted values can be compared to the actual target variable values (`y_test`) to evaluate the performance of the model."
      ],
      "metadata": {
        "id": "Yf8y4czXPfLL"
      }
    },
    {
      "cell_type": "code",
      "source": [
        "print(predicted)"
      ],
      "metadata": {
        "id": "7VnezUioR402",
        "colab": {
          "base_uri": "https://localhost:8080/"
        },
        "outputId": "d5391e06-50d9-459f-ce1d-cf446e4df594"
      },
      "execution_count": null,
      "outputs": [
        {
          "output_type": "stream",
          "name": "stdout",
          "text": [
            "[16.23263453 17.38617756 75.14414315 ... 20.12084254  3.6469387\n",
            " 53.21428871]\n"
          ]
        }
      ]
    },
    {
      "cell_type": "markdown",
      "source": [
        "The code `print(predicted)` prints the predicted target variable values for the test data to the console.\n",
        "\n",
        "After executing this code, the predicted target variable values for the test data are printed to the console. These predicted values can be used to evaluate the performance of the linear regression model and to compare them to the actual target variable values (`y_test`)."
      ],
      "metadata": {
        "id": "I1R5PNcFPsNV"
      }
    },
    {
      "cell_type": "code",
      "source": [
        "predicted.shape"
      ],
      "metadata": {
        "colab": {
          "base_uri": "https://localhost:8080/"
        },
        "id": "rO_0nAN-TNyW",
        "outputId": "1b3a3e2d-94dd-4890-f709-72d6595c2881"
      },
      "execution_count": null,
      "outputs": [
        {
          "output_type": "execute_result",
          "data": {
            "text/plain": [
              "(1621,)"
            ]
          },
          "metadata": {},
          "execution_count": 22
        }
      ]
    },
    {
      "cell_type": "markdown",
      "source": [
        "The code `predicted.shape` returns the shape of the `predicted` array.\n",
        "\n",
        "The `predicted` array contains the predicted target variable values for the test data, and its shape is `(n_samples,)`, where `n_samples` is the number of samples in the test data.\n",
        "\n",
        "Therefore, after executing this code, the shape of the `predicted` array is returned as a tuple, which contains the number of samples in the test data."
      ],
      "metadata": {
        "id": "MFRG0KPhP1qT"
      }
    },
    {
      "cell_type": "code",
      "source": [
        "dframe = pd.DataFrame({'Actual':y_test.flatten(),'Predicted':predicted})"
      ],
      "metadata": {
        "id": "VHbFOW2LR7Q1"
      },
      "execution_count": null,
      "outputs": []
    },
    {
      "cell_type": "markdown",
      "source": [
        "The code `dframe = pd.DataFrame({'Actual':y_test.flatten(),'Predicted':predicted})` creates a pandas DataFrame with two columns: 'Actual' and 'Predicted'.\n",
        "\n",
        "The 'Actual' column contains the actual target variable values for the test data (`y_test`), which are flattened using the `flatten()` method to convert them from a 2D array to a 1D array.\n",
        "\n",
        "The 'Predicted' column contains the predicted target variable values for the test data (`predicted`).\n",
        "\n",
        "After executing this code, the `dframe` DataFrame is created, which can be used to compare the actual and predicted target variable values and to visualize the performance of the linear regression model."
      ],
      "metadata": {
        "id": "D7WMcrZ-P_qY"
      }
    },
    {
      "cell_type": "code",
      "source": [
        "dframe.tail(25)"
      ],
      "metadata": {
        "colab": {
          "base_uri": "https://localhost:8080/",
          "height": 833
        },
        "id": "PZASyOhebRYW",
        "outputId": "ad99636d-33c2-4963-f4df-da4af6b464ea"
      },
      "execution_count": null,
      "outputs": [
        {
          "output_type": "execute_result",
          "data": {
            "text/plain": [
              "          Actual   Predicted\n",
              "1596   14.152000   14.011289\n",
              "1597  262.459991  263.124501\n",
              "1598   22.337999   22.379119\n",
              "1599  190.563339  190.608681\n",
              "1600   22.323334   22.508261\n",
              "1601  227.539993  225.973714\n",
              "1602   17.146667   17.298400\n",
              "1603   14.640667   14.715702\n",
              "1604   96.847336   95.431132\n",
              "1605  407.363342  407.494550\n",
              "1606    2.129333    2.105861\n",
              "1607   22.198000   22.638803\n",
              "1608    1.336667    1.315713\n",
              "1609  109.099998  112.311814\n",
              "1610   18.565332   18.682165\n",
              "1611   11.915333   11.849189\n",
              "1612   21.003332   21.133355\n",
              "1613  141.559998  142.256899\n",
              "1614  343.503326  352.191061\n",
              "1615    1.915333    1.916367\n",
              "1616   15.026667   15.242439\n",
              "1617   20.905333   21.015045\n",
              "1618   20.170668   20.120843\n",
              "1619    3.607333    3.646939\n",
              "1620   54.681999   53.214289"
            ],
            "text/html": [
              "\n",
              "  <div id=\"df-a0f0ab8d-5e9f-4259-b70e-37c0596db1e4\">\n",
              "    <div class=\"colab-df-container\">\n",
              "      <div>\n",
              "<style scoped>\n",
              "    .dataframe tbody tr th:only-of-type {\n",
              "        vertical-align: middle;\n",
              "    }\n",
              "\n",
              "    .dataframe tbody tr th {\n",
              "        vertical-align: top;\n",
              "    }\n",
              "\n",
              "    .dataframe thead th {\n",
              "        text-align: right;\n",
              "    }\n",
              "</style>\n",
              "<table border=\"1\" class=\"dataframe\">\n",
              "  <thead>\n",
              "    <tr style=\"text-align: right;\">\n",
              "      <th></th>\n",
              "      <th>Actual</th>\n",
              "      <th>Predicted</th>\n",
              "    </tr>\n",
              "  </thead>\n",
              "  <tbody>\n",
              "    <tr>\n",
              "      <th>1596</th>\n",
              "      <td>14.152000</td>\n",
              "      <td>14.011289</td>\n",
              "    </tr>\n",
              "    <tr>\n",
              "      <th>1597</th>\n",
              "      <td>262.459991</td>\n",
              "      <td>263.124501</td>\n",
              "    </tr>\n",
              "    <tr>\n",
              "      <th>1598</th>\n",
              "      <td>22.337999</td>\n",
              "      <td>22.379119</td>\n",
              "    </tr>\n",
              "    <tr>\n",
              "      <th>1599</th>\n",
              "      <td>190.563339</td>\n",
              "      <td>190.608681</td>\n",
              "    </tr>\n",
              "    <tr>\n",
              "      <th>1600</th>\n",
              "      <td>22.323334</td>\n",
              "      <td>22.508261</td>\n",
              "    </tr>\n",
              "    <tr>\n",
              "      <th>1601</th>\n",
              "      <td>227.539993</td>\n",
              "      <td>225.973714</td>\n",
              "    </tr>\n",
              "    <tr>\n",
              "      <th>1602</th>\n",
              "      <td>17.146667</td>\n",
              "      <td>17.298400</td>\n",
              "    </tr>\n",
              "    <tr>\n",
              "      <th>1603</th>\n",
              "      <td>14.640667</td>\n",
              "      <td>14.715702</td>\n",
              "    </tr>\n",
              "    <tr>\n",
              "      <th>1604</th>\n",
              "      <td>96.847336</td>\n",
              "      <td>95.431132</td>\n",
              "    </tr>\n",
              "    <tr>\n",
              "      <th>1605</th>\n",
              "      <td>407.363342</td>\n",
              "      <td>407.494550</td>\n",
              "    </tr>\n",
              "    <tr>\n",
              "      <th>1606</th>\n",
              "      <td>2.129333</td>\n",
              "      <td>2.105861</td>\n",
              "    </tr>\n",
              "    <tr>\n",
              "      <th>1607</th>\n",
              "      <td>22.198000</td>\n",
              "      <td>22.638803</td>\n",
              "    </tr>\n",
              "    <tr>\n",
              "      <th>1608</th>\n",
              "      <td>1.336667</td>\n",
              "      <td>1.315713</td>\n",
              "    </tr>\n",
              "    <tr>\n",
              "      <th>1609</th>\n",
              "      <td>109.099998</td>\n",
              "      <td>112.311814</td>\n",
              "    </tr>\n",
              "    <tr>\n",
              "      <th>1610</th>\n",
              "      <td>18.565332</td>\n",
              "      <td>18.682165</td>\n",
              "    </tr>\n",
              "    <tr>\n",
              "      <th>1611</th>\n",
              "      <td>11.915333</td>\n",
              "      <td>11.849189</td>\n",
              "    </tr>\n",
              "    <tr>\n",
              "      <th>1612</th>\n",
              "      <td>21.003332</td>\n",
              "      <td>21.133355</td>\n",
              "    </tr>\n",
              "    <tr>\n",
              "      <th>1613</th>\n",
              "      <td>141.559998</td>\n",
              "      <td>142.256899</td>\n",
              "    </tr>\n",
              "    <tr>\n",
              "      <th>1614</th>\n",
              "      <td>343.503326</td>\n",
              "      <td>352.191061</td>\n",
              "    </tr>\n",
              "    <tr>\n",
              "      <th>1615</th>\n",
              "      <td>1.915333</td>\n",
              "      <td>1.916367</td>\n",
              "    </tr>\n",
              "    <tr>\n",
              "      <th>1616</th>\n",
              "      <td>15.026667</td>\n",
              "      <td>15.242439</td>\n",
              "    </tr>\n",
              "    <tr>\n",
              "      <th>1617</th>\n",
              "      <td>20.905333</td>\n",
              "      <td>21.015045</td>\n",
              "    </tr>\n",
              "    <tr>\n",
              "      <th>1618</th>\n",
              "      <td>20.170668</td>\n",
              "      <td>20.120843</td>\n",
              "    </tr>\n",
              "    <tr>\n",
              "      <th>1619</th>\n",
              "      <td>3.607333</td>\n",
              "      <td>3.646939</td>\n",
              "    </tr>\n",
              "    <tr>\n",
              "      <th>1620</th>\n",
              "      <td>54.681999</td>\n",
              "      <td>53.214289</td>\n",
              "    </tr>\n",
              "  </tbody>\n",
              "</table>\n",
              "</div>\n",
              "      <button class=\"colab-df-convert\" onclick=\"convertToInteractive('df-a0f0ab8d-5e9f-4259-b70e-37c0596db1e4')\"\n",
              "              title=\"Convert this dataframe to an interactive table.\"\n",
              "              style=\"display:none;\">\n",
              "        \n",
              "  <svg xmlns=\"http://www.w3.org/2000/svg\" height=\"24px\"viewBox=\"0 0 24 24\"\n",
              "       width=\"24px\">\n",
              "    <path d=\"M0 0h24v24H0V0z\" fill=\"none\"/>\n",
              "    <path d=\"M18.56 5.44l.94 2.06.94-2.06 2.06-.94-2.06-.94-.94-2.06-.94 2.06-2.06.94zm-11 1L8.5 8.5l.94-2.06 2.06-.94-2.06-.94L8.5 2.5l-.94 2.06-2.06.94zm10 10l.94 2.06.94-2.06 2.06-.94-2.06-.94-.94-2.06-.94 2.06-2.06.94z\"/><path d=\"M17.41 7.96l-1.37-1.37c-.4-.4-.92-.59-1.43-.59-.52 0-1.04.2-1.43.59L10.3 9.45l-7.72 7.72c-.78.78-.78 2.05 0 2.83L4 21.41c.39.39.9.59 1.41.59.51 0 1.02-.2 1.41-.59l7.78-7.78 2.81-2.81c.8-.78.8-2.07 0-2.86zM5.41 20L4 18.59l7.72-7.72 1.47 1.35L5.41 20z\"/>\n",
              "  </svg>\n",
              "      </button>\n",
              "      \n",
              "  <style>\n",
              "    .colab-df-container {\n",
              "      display:flex;\n",
              "      flex-wrap:wrap;\n",
              "      gap: 12px;\n",
              "    }\n",
              "\n",
              "    .colab-df-convert {\n",
              "      background-color: #E8F0FE;\n",
              "      border: none;\n",
              "      border-radius: 50%;\n",
              "      cursor: pointer;\n",
              "      display: none;\n",
              "      fill: #1967D2;\n",
              "      height: 32px;\n",
              "      padding: 0 0 0 0;\n",
              "      width: 32px;\n",
              "    }\n",
              "\n",
              "    .colab-df-convert:hover {\n",
              "      background-color: #E2EBFA;\n",
              "      box-shadow: 0px 1px 2px rgba(60, 64, 67, 0.3), 0px 1px 3px 1px rgba(60, 64, 67, 0.15);\n",
              "      fill: #174EA6;\n",
              "    }\n",
              "\n",
              "    [theme=dark] .colab-df-convert {\n",
              "      background-color: #3B4455;\n",
              "      fill: #D2E3FC;\n",
              "    }\n",
              "\n",
              "    [theme=dark] .colab-df-convert:hover {\n",
              "      background-color: #434B5C;\n",
              "      box-shadow: 0px 1px 3px 1px rgba(0, 0, 0, 0.15);\n",
              "      filter: drop-shadow(0px 1px 2px rgba(0, 0, 0, 0.3));\n",
              "      fill: #FFFFFF;\n",
              "    }\n",
              "  </style>\n",
              "\n",
              "      <script>\n",
              "        const buttonEl =\n",
              "          document.querySelector('#df-a0f0ab8d-5e9f-4259-b70e-37c0596db1e4 button.colab-df-convert');\n",
              "        buttonEl.style.display =\n",
              "          google.colab.kernel.accessAllowed ? 'block' : 'none';\n",
              "\n",
              "        async function convertToInteractive(key) {\n",
              "          const element = document.querySelector('#df-a0f0ab8d-5e9f-4259-b70e-37c0596db1e4');\n",
              "          const dataTable =\n",
              "            await google.colab.kernel.invokeFunction('convertToInteractive',\n",
              "                                                     [key], {});\n",
              "          if (!dataTable) return;\n",
              "\n",
              "          const docLinkHtml = 'Like what you see? Visit the ' +\n",
              "            '<a target=\"_blank\" href=https://colab.research.google.com/notebooks/data_table.ipynb>data table notebook</a>'\n",
              "            + ' to learn more about interactive tables.';\n",
              "          element.innerHTML = '';\n",
              "          dataTable['output_type'] = 'display_data';\n",
              "          await google.colab.output.renderOutput(dataTable, element);\n",
              "          const docLink = document.createElement('div');\n",
              "          docLink.innerHTML = docLinkHtml;\n",
              "          element.appendChild(docLink);\n",
              "        }\n",
              "      </script>\n",
              "    </div>\n",
              "  </div>\n",
              "  "
            ]
          },
          "metadata": {},
          "execution_count": 24
        }
      ]
    },
    {
      "cell_type": "code",
      "source": [
        "import math"
      ],
      "metadata": {
        "id": "j19BWlopbd0C"
      },
      "execution_count": null,
      "outputs": []
    },
    {
      "cell_type": "code",
      "source": [
        "print('Mean Absolute Error:',metrics.mean_absolute_error(y_test,predicted))\n",
        "print('Mean Squared Error:',metrics.mean_squared_error(y_test,predicted))\n",
        "print('Root Mean Squared Error:',math.sqrt(metrics.mean_absolute_error(y_test,predicted)))"
      ],
      "metadata": {
        "id": "dgVdMPi-bhtI",
        "outputId": "9a220f7e-4d97-4126-d872-5e32ce0851e7",
        "colab": {
          "base_uri": "https://localhost:8080/"
        }
      },
      "execution_count": null,
      "outputs": [
        {
          "output_type": "stream",
          "name": "stdout",
          "text": [
            "Mean Absolute Error: 0.6447953094107917\n",
            "Mean Squared Error: 2.5556385687626806\n",
            "Root Mean Squared Error: 0.802991475303936\n"
          ]
        }
      ]
    },
    {
      "cell_type": "markdown",
      "source": [
        "prints the evaluation metrics of the linear regression model to the console.\n",
        "\n",
        "The first line of code prints the mean absolute error (MAE) of the model, which is the average absolute difference between the actual and predicted target variable values. The MAE measures the average magnitude of the errors in the predicted values without considering their direction.\n",
        "\n",
        "The second line of code prints the mean squared error (MSE) of the model, which is the average squared difference between the actual and predicted target variable values. The MSE measures the average magnitude of the squared errors in the predicted values and gives more weight to large errors.\n",
        "\n",
        "The third line of code prints the root mean squared error (RMSE) of the model, which is the square root of the MAE. The RMSE is a more interpretable metric than the MSE because it is in the same unit as the target variable and measures the standard deviation of the errors in the predicted values.\n",
        "\n",
        "After executing this code, the MAE, MSE, and RMSE of the linear regression model are printed to the console, which can be used to evaluate the performance of the model."
      ],
      "metadata": {
        "id": "9cXD6xyBQXwk"
      }
    },
    {
      "cell_type": "code",
      "source": [
        "r2_score(y_test , predicted)"
      ],
      "metadata": {
        "id": "gyBMpdhUeHgA",
        "colab": {
          "base_uri": "https://localhost:8080/"
        },
        "outputId": "55225d01-c544-42ff-a938-338ff8792886"
      },
      "execution_count": null,
      "outputs": [
        {
          "output_type": "execute_result",
          "data": {
            "text/plain": [
              "0.9997248676444709"
            ]
          },
          "metadata": {},
          "execution_count": 30
        }
      ]
    },
    {
      "cell_type": "code",
      "source": [
        "mean_absolute_percentage_error(y_test, predicted)"
      ],
      "metadata": {
        "id": "d9MHcl1Hi86s",
        "outputId": "be137d6d-aef0-4c7c-cd51-b66464a744a2",
        "colab": {
          "base_uri": "https://localhost:8080/"
        }
      },
      "execution_count": null,
      "outputs": [
        {
          "output_type": "execute_result",
          "data": {
            "text/plain": [
              "0.010542443676538055"
            ]
          },
          "metadata": {},
          "execution_count": 37
        }
      ]
    },
    {
      "cell_type": "code",
      "source": [
        "graph = dframe.head(25)"
      ],
      "metadata": {
        "id": "jObPWQ5wmkV0"
      },
      "execution_count": null,
      "outputs": []
    },
    {
      "cell_type": "code",
      "source": [
        "graph.plot(kind = 'bar')"
      ],
      "metadata": {
        "colab": {
          "base_uri": "https://localhost:8080/",
          "height": 451
        },
        "id": "SgSd5aO8dOkQ",
        "outputId": "b61e6795-173c-4fce-aef9-d4e4677a66f7"
      },
      "execution_count": null,
      "outputs": [
        {
          "output_type": "execute_result",
          "data": {
            "text/plain": [
              "<Axes: >"
            ]
          },
          "metadata": {},
          "execution_count": 28
        },
        {
          "output_type": "display_data",
          "data": {
            "text/plain": [
              "<Figure size 640x480 with 1 Axes>"
            ],
            "image/png": "[encoded data removed]"
          },
          "metadata": {}
        }
      ]
    }
  ]
}